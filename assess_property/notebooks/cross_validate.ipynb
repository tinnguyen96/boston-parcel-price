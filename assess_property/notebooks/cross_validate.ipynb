{
 "cells": [
  {
   "cell_type": "markdown",
   "metadata": {},
   "source": [
    "Summary:\n",
    "- Light GBM is better than linear regression, in terms of cross-validation error"
   ]
  },
  {
   "cell_type": "code",
   "execution_count": 2,
   "metadata": {},
   "outputs": [],
   "source": [
    "from assess_property.fit_learner import MakeExperiment"
   ]
  },
  {
   "cell_type": "code",
   "execution_count": 3,
   "metadata": {},
   "outputs": [],
   "source": [
    "import matplotlib.pyplot as plt\n",
    "import seaborn as sns\n",
    "import pandas as pd\n",
    "import numpy as np\n",
    "from scipy.stats import describe"
   ]
  },
  {
   "cell_type": "markdown",
   "metadata": {},
   "source": [
    "# Make experiment"
   ]
  },
  {
   "cell_type": "code",
   "execution_count": 4,
   "metadata": {},
   "outputs": [
    {
     "name": "stderr",
     "output_type": "stream",
     "text": [
      "100%|██████████| 10/10 [00:13<00:00,  1.37s/it]\n"
     ]
    },
    {
     "name": "stdout",
     "output_type": "stream",
     "text": [
      "<class 'pandas.core.frame.DataFrame'>\n",
      "Int64Index: 305699 entries, 9 to 1731182\n",
      "Data columns (total 9 columns):\n",
      " #   Column                        Non-Null Count   Dtype  \n",
      "---  ------                        --------------   -----  \n",
      " 0   PID                           305699 non-null  object \n",
      " 1   YR_BUILT                      305669 non-null  float64\n",
      " 2   LIVING_AREA                   305692 non-null  float64\n",
      " 3   LU                            305699 non-null  object \n",
      " 4   ZIPCODE                       305699 non-null  object \n",
      " 5   TOTAL_VALUE                   305699 non-null  float64\n",
      " 6   YEAR                          305699 non-null  int64  \n",
      " 7   YR_REMODEL                    37158 non-null   float64\n",
      " 8   TOTAL_VALUE_IN_HUNDRED_GRAND  305699 non-null  float64\n",
      "dtypes: float64(5), int64(1), object(3)\n",
      "memory usage: 23.3+ MB\n"
     ]
    }
   ],
   "source": [
    "_, experiment = MakeExperiment()"
   ]
  },
  {
   "cell_type": "markdown",
   "metadata": {},
   "source": [
    "# Compare linear regression with light GBM "
   ]
  },
  {
   "cell_type": "markdown",
   "metadata": {},
   "source": [
    "## Linear regression"
   ]
  },
  {
   "cell_type": "code",
   "execution_count": 5,
   "metadata": {},
   "outputs": [
    {
     "name": "stderr",
     "output_type": "stream",
     "text": [
      "[Parallel(n_jobs=4)]: Using backend LokyBackend with 4 concurrent workers.\n",
      "[Parallel(n_jobs=4)]: Done  10 out of  10 | elapsed:    1.2s finished\n"
     ]
    }
   ],
   "source": [
    "lm_cs_res = experiment.cv_fit(learner = \"lm\")"
   ]
  },
  {
   "cell_type": "markdown",
   "metadata": {},
   "source": [
    "Average absolute error is about $\\$270,000$."
   ]
  },
  {
   "cell_type": "code",
   "execution_count": 6,
   "metadata": {},
   "outputs": [
    {
     "name": "stdout",
     "output_type": "stream",
     "text": [
      "[-2.74840018 -2.7654714  -2.75283539 -2.7328734  -2.73299919 -2.7386912\n",
      " -2.74810052 -2.75444437 -2.75534832 -2.79182196]\n"
     ]
    }
   ],
   "source": [
    "print(lm_cs_res[\"test_neg_mean_absolute_error\"])"
   ]
  },
  {
   "cell_type": "markdown",
   "metadata": {},
   "source": [
    "Average absolute percentage error is about $50\\%$"
   ]
  },
  {
   "cell_type": "code",
   "execution_count": 7,
   "metadata": {},
   "outputs": [
    {
     "name": "stdout",
     "output_type": "stream",
     "text": [
      "[-0.52438105 -0.52518303 -0.52697512 -0.51755901 -0.52022079 -0.52264144\n",
      " -0.51685518 -0.52375622 -0.52681537 -0.52415252]\n"
     ]
    }
   ],
   "source": [
    "print(lm_cs_res[\"test_neg_mean_absolute_percentage_error\"])"
   ]
  },
  {
   "cell_type": "markdown",
   "metadata": {},
   "source": [
    "## Light GBM"
   ]
  },
  {
   "cell_type": "code",
   "execution_count": 8,
   "metadata": {},
   "outputs": [
    {
     "name": "stderr",
     "output_type": "stream",
     "text": [
      "[Parallel(n_jobs=4)]: Using backend LokyBackend with 4 concurrent workers.\n",
      "[Parallel(n_jobs=4)]: Done  10 out of  10 | elapsed:    3.0s finished\n"
     ]
    }
   ],
   "source": [
    "lgbm_cs_res = experiment.cv_fit(learner = \"lgbm\")"
   ]
  },
  {
   "cell_type": "markdown",
   "metadata": {},
   "source": [
    "Average absolute error is about $\\$160,000$.\n",
    "There is clearly a benefit compared to using linear model."
   ]
  },
  {
   "cell_type": "code",
   "execution_count": 9,
   "metadata": {},
   "outputs": [
    {
     "name": "stdout",
     "output_type": "stream",
     "text": [
      "[-1.6079664  -1.61104946 -1.62638593 -1.59375571 -1.61172653 -1.61218939\n",
      " -1.623267   -1.60029769 -1.617158   -1.63463059]\n"
     ]
    }
   ],
   "source": [
    "print(lgbm_cs_res[\"test_neg_mean_absolute_error\"])"
   ]
  },
  {
   "cell_type": "markdown",
   "metadata": {},
   "source": [
    "Average absolute percentage error is about $27\\%$"
   ]
  },
  {
   "cell_type": "code",
   "execution_count": 10,
   "metadata": {},
   "outputs": [
    {
     "name": "stdout",
     "output_type": "stream",
     "text": [
      "[-0.27831531 -0.27741642 -0.27947643 -0.2760934  -0.27791369 -0.27782083\n",
      " -0.27571262 -0.27711892 -0.27933788 -0.27604633]\n"
     ]
    }
   ],
   "source": [
    "print(lgbm_cs_res[\"test_neg_mean_absolute_percentage_error\"])"
   ]
  },
  {
   "cell_type": "code",
   "execution_count": 11,
   "metadata": {},
   "outputs": [
    {
     "data": {
      "text/plain": [
       "dict_keys(['fit_time', 'score_time', 'estimator', 'indices', 'test_neg_mean_absolute_error', 'test_neg_root_mean_squared_error', 'test_neg_mean_absolute_percentage_error'])"
      ]
     },
     "execution_count": 11,
     "metadata": {},
     "output_type": "execute_result"
    }
   ],
   "source": [
    "lgbm_cs_res.keys()"
   ]
  },
  {
   "cell_type": "markdown",
   "metadata": {},
   "source": [
    "### Visualize errors as boxplots"
   ]
  },
  {
   "cell_type": "code",
   "execution_count": 18,
   "metadata": {},
   "outputs": [],
   "source": [
    "dflist = []\n",
    "for prefix in [\"lm\", \"lgbm\"]:\n",
    "    name = \"%s_cs_res\" %prefix\n",
    "    d_ = {key: val for (key,val) in locals()[name].items() if ((key != \"estimator\") and (key != \"indices\")) }\n",
    "    tempdf = pd.DataFrame.from_dict(d_)\n",
    "    tempdf[\"learner\"] = name\n",
    "    tempdf[\"fold_idx\"] = tempdf.index\n",
    "    dflist.append(tempdf)\n",
    "errdf = pd.concat(dflist).reset_index(drop=True)\n",
    "\n",
    "errdf = pd.wide_to_long(df = errdf,\n",
    "                stubnames=\"test\",\n",
    "                i = [\"learner\",\"fold_idx\"],\n",
    "                j = \"score_type\",\n",
    "                sep='_', \n",
    "                suffix=r'\\w+').reset_index()\n",
    "errdf.rename(columns = {\"test\": \"error\"}, inplace=True)\n",
    "errdf[\"error\"] = -errdf[\"error\"]\n",
    "errdf[\"error_type\"] = errdf[\"score_type\"].apply(lambda x: \"_\".join(x.split(\"_\")[1:]))"
   ]
  },
  {
   "cell_type": "code",
   "execution_count": 19,
   "metadata": {},
   "outputs": [
    {
     "data": {
      "image/png": "[encoded data removed]",
      "text/plain": [
       "<Figure size 1679x300 with 3 Axes>"
      ]
     },
     "metadata": {},
     "output_type": "display_data"
    }
   ],
   "source": [
    "sns.set(font_scale = 1.0)\n",
    "g = sns.FacetGrid(data = errdf,\n",
    "                  height = 3,\n",
    "                  aspect =1.7,\n",
    "                  col=\"error_type\",\n",
    "                  sharex=False)\n",
    "\n",
    "g.map_dataframe(sns.boxplot,\n",
    "                x = \"error\",\n",
    "                y = \"learner\",\n",
    "                hue = \"learner\")\n",
    "g.add_legend()\n",
    "plt.savefig(\"../figures/cverrors.jpg\")\n",
    "plt.show()"
   ]
  }
 ],
 "metadata": {
  "kernelspec": {
   "display_name": "no-pip-statistics",
   "language": "python",
   "name": "python3"
  },
  "language_info": {
   "codemirror_mode": {
    "name": "ipython",
    "version": 3
   },
   "file_extension": ".py",
   "mimetype": "text/x-python",
   "name": "python",
   "nbconvert_exporter": "python",
   "pygments_lexer": "ipython3",
   "version": "3.9.16"
  },
  "orig_nbformat": 4
 },
 "nbformat": 4,
 "nbformat_minor": 2
}
